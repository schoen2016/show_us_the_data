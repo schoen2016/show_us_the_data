{
 "cells": [
  {
   "cell_type": "code",
   "execution_count": 4,
   "id": "69b3bfc4-358c-4faa-a358-1fe006960aff",
   "metadata": {},
   "outputs": [
    {
     "name": "stdout",
     "output_type": "stream",
     "text": [
      "Predicted: 0.820\n"
     ]
    }
   ],
   "source": [
    "# example of saving a fit model\n",
    "# sudo apt-get install libhdf5\n",
    "# sudo pip install h5py\n",
    "from sklearn.datasets import make_classification\n",
    "from tensorflow.python.keras import Sequential\n",
    "from tensorflow.python.keras.layers import Dense\n",
    "from tensorflow.python.keras.optimizers import SGD\n",
    "import numpy as np\n",
    "# create the dataset\n",
    "X, y = make_classification(n_samples=1000, n_features=4, n_classes=2, random_state=1)\n",
    "# determine the number of input features\n",
    "n_features = X.shape[1]\n",
    "# define model\n",
    "model = Sequential()\n",
    "model.add(Dense(10, activation='relu', kernel_initializer='he_normal', input_shape=(n_features,)))\n",
    "model.add(Dense(1, activation='sigmoid'))\n",
    "# compile the model\n",
    "sgd = SGD(lr=0.001, momentum=0.8)\n",
    "model.compile(optimizer=sgd, loss='binary_crossentropy')\n",
    "# fit the model\n",
    "model.fit(X, y, epochs=100, batch_size=32, verbose=0, validation_split=0.3)\n",
    "# make a prediction\n",
    "row = np.array([1.91518414, 1.14995454, -1.52847073, 0.79430654])\n",
    "yhat = model.predict(np.array([row]))\n",
    "print('Predicted: %.3f' % yhat[0])\n",
    "# save model to file\n",
    "model.save('snd_tensor_load_model.h5')"
   ]
  },
  {
   "cell_type": "code",
   "execution_count": 1,
   "id": "e9045996-06e8-4c7c-888e-988247130557",
   "metadata": {},
   "outputs": [
    {
     "name": "stdout",
     "output_type": "stream",
     "text": [
      "WARNING:tensorflow:From /home/schoe7/project/show-us-the-data/.env/lib/python3.6/site-packages/tensorflow/python/keras/_impl/keras/backend.py:1557: calling reduce_mean (from tensorflow.python.ops.math_ops) with keep_dims is deprecated and will be removed in a future version.\n",
      "Instructions for updating:\n",
      "keep_dims is deprecated, use keepdims instead\n",
      "Predicted: 0.820\n"
     ]
    }
   ],
   "source": [
    "# example of loading a saved model\n",
    "from sklearn.datasets import make_classification\n",
    "from tensorflow.python.keras.models import load_model\n",
    "import numpy as np\n",
    "# create the dataset\n",
    "X, y = make_classification(n_samples=1000, n_features=4, n_classes=2, random_state=1)\n",
    "# load the model from file\n",
    "model = load_model('snd_tensor_load_model.h5')\n",
    "# make a prediction\n",
    "row = np.array([1.91518414, 1.14995454, -1.52847073, 0.79430654])\n",
    "yhat = model.predict(np.array([row]))\n",
    "print('Predicted: %.3f' % yhat[0])"
   ]
  }
 ],
 "metadata": {
  "kernelspec": {
   "display_name": "Python 3",
   "language": "python",
   "name": "python3"
  },
  "language_info": {
   "codemirror_mode": {
    "name": "ipython",
    "version": 3
   },
   "file_extension": ".py",
   "mimetype": "text/x-python",
   "name": "python",
   "nbconvert_exporter": "python",
   "pygments_lexer": "ipython3",
   "version": "3.6.9"
  }
 },
 "nbformat": 4,
 "nbformat_minor": 5
}

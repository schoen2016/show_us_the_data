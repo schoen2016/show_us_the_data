{
 "cells": [
  {
   "cell_type": "markdown",
   "id": "3da3a924-dce8-43fd-b9cc-7986a68183e1",
   "metadata": {},
   "source": [
    "# Iris \n",
    "- Methods\n",
    "  - __sklearn__: train_test_split\n",
    "  - __sklearn__: LabelEncoder\n",
    "  - __tensorflow__: Sequential\n",
    "  - __tensorflow__: Dense\n",
    "- Model\n",
    "  - __activation__: softmax\n",
    "  - __activation__: relu\n",
    "  - __kernel_initializer__: he_normal\n",
    "  - __metrix__: accuracy\n",
    "  \n",
    "\n",
    "[TensorFlow 2 Tutorial: Get Started in Deep Learning With tf.keras\n",
    "](https://machinelearningmastery.com/tensorflow-tutorial-deep-learning-with-tf-keras/)"
   ]
  },
  {
   "cell_type": "markdown",
   "id": "cfe05f98-8bf3-4a47-b295-bd9346f2eb26",
   "metadata": {},
   "source": [
    "# Example"
   ]
  },
  {
   "cell_type": "code",
   "execution_count": 1,
   "id": "5301a231-4e53-4da2-84b8-7b3d5eedbeb8",
   "metadata": {},
   "outputs": [],
   "source": [
    "# mlp for binary classification\n",
    "import numpy as np\n",
    "from pandas import read_csv\n",
    "from sklearn.model_selection import train_test_split\n",
    "from sklearn.preprocessing import LabelEncoder\n",
    "from tensorflow.python.keras.models import Sequential\n",
    "from tensorflow.python.keras.layers import Dense\n",
    "from pprint import pprint\n"
   ]
  },
  {
   "cell_type": "code",
   "execution_count": 2,
   "id": "d6c8eadf-6637-466a-abca-c538a4ecbcbd",
   "metadata": {},
   "outputs": [],
   "source": [
    "# load the dataset\n",
    "path = 'https://raw.githubusercontent.com/jbrownlee/Datasets/master/iris.csv'\n",
    "df = read_csv(path, header=None)\n",
    "# print(df.describe())"
   ]
  },
  {
   "cell_type": "code",
   "execution_count": 3,
   "id": "25eefcfa-7b9f-4739-8811-36d3fb9c34f7",
   "metadata": {},
   "outputs": [
    {
     "name": "stdout",
     "output_type": "stream",
     "text": [
      "[{'X_train': (100, 4)},\n",
      " {'X_test': (50, 4)},\n",
      " {'y_train': (100,)},\n",
      " {'y_test': (50,)}]\n",
      "{'n_features': 4}\n"
     ]
    }
   ],
   "source": [
    "# split into input and output columns\n",
    "X, y = df.values[:, :-1], df.values[:, -1]\n",
    "\n",
    "# ensure all data are floating point values\n",
    "X = X.astype('float32')\n",
    "\n",
    "# encode strings to integer\n",
    "y = LabelEncoder().fit_transform(y)\n",
    "\n",
    "# split into train and test datasets\n",
    "X_train, X_test, y_train, y_test = train_test_split(X, y, test_size=0.33)\n",
    "pprint([{\"X_train\":X_train.shape}, \n",
    "       {\"X_test\":X_test.shape}, \n",
    "       {\"y_train\":y_train.shape}, \n",
    "       {\"y_test\":y_test.shape}])\n",
    "\n",
    "# determine the number of input features\n",
    "n_features = X_train.shape[1]\n",
    "print({'n_features':n_features})"
   ]
  },
  {
   "cell_type": "code",
   "execution_count": 4,
   "id": "e684797c-bf85-4b8c-a7be-a956773d7bef",
   "metadata": {},
   "outputs": [],
   "source": [
    "# define model\n",
    "model = Sequential()\n",
    "model.add(Dense(10, activation='relu', kernel_initializer='he_normal', input_shape=(n_features,)))\n",
    "model.add(Dense(8, activation='relu', kernel_initializer='he_normal'))\n",
    "model.add(Dense(3, activation='softmax'))"
   ]
  },
  {
   "cell_type": "code",
   "execution_count": 5,
   "id": "30c57477-a4a6-4f3d-9f0d-88337885e44e",
   "metadata": {},
   "outputs": [
    {
     "name": "stdout",
     "output_type": "stream",
     "text": [
      "WARNING:tensorflow:From /home/schoe7/project/show-us-the-data/.env/lib/python3.6/site-packages/tensorflow/python/keras/_impl/keras/backend.py:1557: calling reduce_mean (from tensorflow.python.ops.math_ops) with keep_dims is deprecated and will be removed in a future version.\n",
      "Instructions for updating:\n",
      "keep_dims is deprecated, use keepdims instead\n",
      "WARNING:tensorflow:From /home/schoe7/project/show-us-the-data/.env/lib/python3.6/site-packages/tensorflow/python/keras/_impl/keras/backend.py:1422: calling reduce_max (from tensorflow.python.ops.math_ops) with keep_dims is deprecated and will be removed in a future version.\n",
      "Instructions for updating:\n",
      "keep_dims is deprecated, use keepdims instead\n"
     ]
    }
   ],
   "source": [
    "# compile the model\n",
    "model.compile(optimizer='adam', loss='sparse_categorical_crossentropy', metrics=['accuracy'])"
   ]
  },
  {
   "cell_type": "code",
   "execution_count": 8,
   "id": "ec8b483e-fc15-4acc-a9df-46e9055ce81a",
   "metadata": {},
   "outputs": [],
   "source": [
    "# fit the model\n",
    "model.fit(X_train, y_train, epochs=150, batch_size=32, verbose=0)\n",
    "# evaluate the model\n",
    "loss, acc = model.evaluate(X_test, y_test, verbose=0)\n",
    "print('Test Accuracy: %.3f' % acc)"
   ]
  },
  {
   "cell_type": "code",
   "execution_count": 14,
   "id": "b697f8c2-e011-4cc6-82e1-5e3e80978744",
   "metadata": {},
   "outputs": [
    {
     "name": "stdout",
     "output_type": "stream",
     "text": [
      "Predicted: [[9.9334669e-01 6.6463533e-03 6.9795374e-06]] (class=0)\n"
     ]
    }
   ],
   "source": [
    "# make a prediction\n",
    "row = np.array([5.1,3.5,1.4,0.2])\n",
    "yhat = model.predict(np.array([row]))\n",
    "print('Predicted: %s (class=%d)' % (yhat, np.argmax(yhat)))\n",
    "\n"
   ]
  }
 ],
 "metadata": {
  "kernelspec": {
   "display_name": "Python 3",
   "language": "python",
   "name": "python3"
  },
  "language_info": {
   "codemirror_mode": {
    "name": "ipython",
    "version": 3
   },
   "file_extension": ".py",
   "mimetype": "text/x-python",
   "name": "python",
   "nbconvert_exporter": "python",
   "pygments_lexer": "ipython3",
   "version": "3.6.9"
  }
 },
 "nbformat": 4,
 "nbformat_minor": 5
}

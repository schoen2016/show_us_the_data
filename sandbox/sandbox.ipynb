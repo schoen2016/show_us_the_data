{
 "cells": [
  {
   "cell_type": "code",
   "execution_count": null,
   "id": "a749b218-801d-4148-b0de-de0c48880807",
   "metadata": {},
   "outputs": [],
   "source": [
    "# TensorFlow\n",
    "# from tensorflow.python.keras.models import Sequential\n",
    "# from tensorflow.python.keras.layers import Dense\n"
   ]
  },
  {
   "cell_type": "markdown",
   "id": "3da3a924-dce8-43fd-b9cc-7986a68183e1",
   "metadata": {},
   "source": [
    "# Tensor Process\n",
    "1. Define the model\n",
    "2. Compile the model\n",
    "3. Fit the model\n",
    "4. Evaluate the model\n",
    "5. Make predictions\n",
    "\n",
    "[TensorFlow 2 Tutorial: Get Started in Deep Learning With tf.keras\n",
    "](https://machinelearningmastery.com/tensorflow-tutorial-deep-learning-with-tf-keras/)"
   ]
  },
  {
   "cell_type": "code",
   "execution_count": null,
   "id": "8e5511c9-192d-4cee-811a-ec96897e0fe4",
   "metadata": {},
   "outputs": [],
   "source": [
    "# # Define the model\n",
    "# model = Sequential()\n",
    "# model.add(Dense(10, input_shape=(8,))) # 8 inputs, 10 hidden nodes\n",
    "# model.add(Dense(7))\n",
    "# model.add(Dense(1)) # 1 output"
   ]
  },
  {
   "cell_type": "markdown",
   "id": "9a9532bf-e84f-44c9-bffb-cc75025e0eaa",
   "metadata": {},
   "source": [
    "# Define the model explicitly\n",
    "```python\n",
    "from tensorflow.keras import Model\n",
    "from tensorflow.keras import Input\n",
    "from tensorflow.keras.layers import Dense\n",
    "\n",
    "x_in = Input(shape=(8,))\n",
    "x1 = Dense(10)(x_in)\n",
    "x2 = Dense(8)(x1) \n",
    "x_out = Dense(1)(x2)\n",
    "\n",
    "model = Model(inputs=x_in, outputs=x_out)\n",
    "```"
   ]
  },
  {
   "cell_type": "markdown",
   "id": "cfe05f98-8bf3-4a47-b295-bd9346f2eb26",
   "metadata": {},
   "source": [
    "# Example"
   ]
  },
  {
   "cell_type": "code",
   "execution_count": 27,
   "id": "5301a231-4e53-4da2-84b8-7b3d5eedbeb8",
   "metadata": {},
   "outputs": [],
   "source": [
    "# mlp for binary classification\n",
    "import numpy as np\n",
    "from pandas import read_csv\n",
    "from sklearn.model_selection import train_test_split\n",
    "from sklearn.preprocessing import LabelEncoder\n",
    "from tensorflow.python.keras.models import Sequential\n",
    "from tensorflow.python.keras.layers import Dense\n",
    "from pprint import pprint\n"
   ]
  },
  {
   "cell_type": "code",
   "execution_count": 2,
   "id": "d6c8eadf-6637-466a-abca-c538a4ecbcbd",
   "metadata": {},
   "outputs": [],
   "source": [
    "# load the dataset\n",
    "path = 'https://raw.githubusercontent.com/jbrownlee/Datasets/master/ionosphere.csv'\n",
    "df = read_csv(path, header=None)\n",
    "# print(df.describe())"
   ]
  },
  {
   "cell_type": "code",
   "execution_count": 3,
   "id": "25eefcfa-7b9f-4739-8811-36d3fb9c34f7",
   "metadata": {},
   "outputs": [
    {
     "name": "stdout",
     "output_type": "stream",
     "text": [
      "[{'X_train': (235, 34)},\n",
      " {'X_test': (116, 34)},\n",
      " {'y_train': (235,)},\n",
      " {'y_test': (116,)}]\n",
      "{'n_features': 34}\n"
     ]
    }
   ],
   "source": [
    "# split into input and output columns\n",
    "X, y = df.values[:, :-1], df.values[:, -1]\n",
    "\n",
    "# ensure all data are floating point values\n",
    "X = X.astype('float32')\n",
    "\n",
    "# encode strings to integer\n",
    "y = LabelEncoder().fit_transform(y)\n",
    "\n",
    "# split into train and test datasets\n",
    "X_train, X_test, y_train, y_test = train_test_split(X, y, test_size=0.33)\n",
    "pprint([{\"X_train\":X_train.shape}, \n",
    "       {\"X_test\":X_test.shape}, \n",
    "       {\"y_train\":y_train.shape}, \n",
    "       {\"y_test\":y_test.shape}])\n",
    "\n",
    "# determine the number of input features\n",
    "n_features = X_train.shape[1]\n",
    "print({'n_features':n_features})"
   ]
  },
  {
   "cell_type": "code",
   "execution_count": 4,
   "id": "e684797c-bf85-4b8c-a7be-a956773d7bef",
   "metadata": {},
   "outputs": [],
   "source": [
    "# define model\n",
    "model = Sequential()\n",
    "model.add(Dense(10, activation='relu', kernel_initializer='he_normal', input_shape=(n_features,)))\n",
    "model.add(Dense(8, activation='relu', kernel_initializer='he_normal'))\n",
    "model.add(Dense(1, activation='sigmoid'))"
   ]
  },
  {
   "cell_type": "code",
   "execution_count": 5,
   "id": "30c57477-a4a6-4f3d-9f0d-88337885e44e",
   "metadata": {},
   "outputs": [
    {
     "name": "stdout",
     "output_type": "stream",
     "text": [
      "WARNING:tensorflow:From /home/schoe7/project/show-us-the-data/.env/lib/python3.6/site-packages/tensorflow/python/keras/_impl/keras/backend.py:1557: calling reduce_mean (from tensorflow.python.ops.math_ops) with keep_dims is deprecated and will be removed in a future version.\n",
      "Instructions for updating:\n",
      "keep_dims is deprecated, use keepdims instead\n"
     ]
    }
   ],
   "source": [
    "# compile the model\n",
    "model.compile(optimizer='adam', loss='binary_crossentropy', metrics=['accuracy'])"
   ]
  },
  {
   "cell_type": "code",
   "execution_count": 29,
   "id": "ec8b483e-fc15-4acc-a9df-46e9055ce81a",
   "metadata": {},
   "outputs": [
    {
     "name": "stdout",
     "output_type": "stream",
     "text": [
      "Test Accuracy: 0.905\n"
     ]
    }
   ],
   "source": [
    "# fit the model\n",
    "model.fit(X_train, y_train, epochs=150, batch_size=34, verbose=0)\n",
    "# evaluate the model\n",
    "loss, acc = model.evaluate(X_test, y_test, verbose=0)\n",
    "print('Test Accuracy: %.3f' % acc)"
   ]
  },
  {
   "cell_type": "code",
   "execution_count": 60,
   "id": "b697f8c2-e011-4cc6-82e1-5e3e80978744",
   "metadata": {},
   "outputs": [
    {
     "name": "stdout",
     "output_type": "stream",
     "text": [
      "Predicted: 1.000\n"
     ]
    }
   ],
   "source": [
    "# make a prediction\n",
    "row = np.array([1,0,0.99539,-0.05889,0.85243,0.02306,0.83398,-0.37708,1,0.03760,0.85243,-0.17755,0.59755,-0.44945,0.60536,-0.38223,0.84356,-0.38542,0.58212,-0.32192,0.56971,-0.29674,0.36946,-0.47357,0.56811,-0.51171,0.41078,-0.46168,0.21266,-0.34090,0.42267,-0.54487,0.18641,-0.45300])\n",
    "yhat = model.predict(np.array([row]))\n",
    "print('Predicted: %.3f' % yhat)"
   ]
  }
 ],
 "metadata": {
  "kernelspec": {
   "display_name": "Python 3",
   "language": "python",
   "name": "python3"
  },
  "language_info": {
   "codemirror_mode": {
    "name": "ipython",
    "version": 3
   },
   "file_extension": ".py",
   "mimetype": "text/x-python",
   "name": "python",
   "nbconvert_exporter": "python",
   "pygments_lexer": "ipython3",
   "version": "3.6.9"
  }
 },
 "nbformat": 4,
 "nbformat_minor": 5
}

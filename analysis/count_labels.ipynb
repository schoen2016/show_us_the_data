{
 "cells": [
  {
   "cell_type": "code",
   "execution_count": 119,
   "id": "e4512aa0-035c-43e6-b6ad-1978c4b3b6d3",
   "metadata": {},
   "outputs": [],
   "source": [
    "import pandas as pd\n",
    "import numpy as np\n",
    "import matplotlib.pyplot as plt\n",
    "# import scipy\n",
    "from scipy import stats"
   ]
  },
  {
   "cell_type": "code",
   "execution_count": 115,
   "id": "5b0784ac-b59a-4b74-828e-414e06456362",
   "metadata": {},
   "outputs": [],
   "source": [
    "data = pd.read_csv('data_ign/v1.0.0/v1.0.0-combined-features.csv')"
   ]
  },
  {
   "cell_type": "code",
   "execution_count": 122,
   "id": "0830d201-c0ff-4f68-971a-942cc7b8e061",
   "metadata": {},
   "outputs": [
    {
     "name": "stdout",
     "output_type": "stream",
     "text": [
      "                                                 label  false   true  total  \\\n",
      "0                                                 adni  26166  32804  58970   \n",
      "1                   early childhood longitudinal study  56924   2046  58970   \n",
      "2                     beginning postsecondary students  56975   1995  58970   \n",
      "3                         education longitudinal study  57107   1863  58970   \n",
      "4    trends in international mathematics and scienc...  57160   1810  58970   \n",
      "..                                                 ...    ...    ...    ...   \n",
      "121  rsna international covid 19 open radiology dat...  58969      1  58970   \n",
      "122  national oceanic and atmospheric administratio...  58969      1  58970   \n",
      "123      national weather service nws storm surge risk  58969      1  58970   \n",
      "124  advanced national seismic system comprehensive...  58969      1  58970   \n",
      "125    cas covid 19 antiviral candidate compounds data  58969      1  58970   \n",
      "\n",
      "      percent  \n",
      "0    0.556283  \n",
      "1    0.034696  \n",
      "2    0.033831  \n",
      "3    0.031592  \n",
      "4    0.030694  \n",
      "..        ...  \n",
      "121  0.000017  \n",
      "122  0.000017  \n",
      "123  0.000017  \n",
      "124  0.000017  \n",
      "125  0.000017  \n",
      "\n",
      "[126 rows x 5 columns]\n"
     ]
    }
   ],
   "source": [
    "cleaned_label = data['pattern'].unique()\n",
    "df = list()\n",
    "for label in cleaned_label:\n",
    "    count = (data['pattern']==label).value_counts()\n",
    "    total = count[0]+count[1]\n",
    "    percent = count[1]/total     \n",
    "    entry = {\n",
    "        \n",
    "        'label':[label],\n",
    "        'false':[count[0]], \n",
    "        'true':[count[1]],\n",
    "        'total':total,\n",
    "        'percent':percent,\n",
    "    }\n",
    "    df.append(pd.DataFrame(data = entry))\n",
    "\n",
    "df = pd.concat(df, ignore_index=True)\n",
    "df = df.sort_values(by='true', ascending=False, ignore_index=True)\n",
    "print(df)"
   ]
  },
  {
   "cell_type": "code",
   "execution_count": 73,
   "id": "df8d0c4b-fbc0-45d6-8b5b-a497cb71e779",
   "metadata": {},
   "outputs": [],
   "source": [
    "df.to_csv('data_ign/v1.0.0/v1.0.0-counts.csv')"
   ]
  },
  {
   "cell_type": "code",
   "execution_count": 140,
   "id": "be0708e5-3477-451f-82a5-d5fc5d58b8ee",
   "metadata": {},
   "outputs": [
    {
     "name": "stdout",
     "output_type": "stream",
     "text": [
      "[32804  2046  1995  1863  1810  1625  1303  1125  1070  1044  1039   952\n",
      "   751   655   555   532   531   445   429   421   400   394   366   318\n",
      "   275   274   253   244   235   203   195   181   166   161   143   140\n",
      "   135   124   115   112   105   101    88    83    81    78    72    72\n",
      "    64    61    54    43    42    42    41    31    28    26    23    22\n",
      "    19    18    18    16    15    15    15    14    13    11    10    10\n",
      "    10     9     9     9     8     8     8     7     7     7     7     7\n",
      "     6     6     6     6     6     6     5     5     4     4     4     4\n",
      "     3     3     3     3     3     2     2     2     2     2     2     2\n",
      "     2     2     2     2     2     1     1     1     1     1     1     1\n",
      "     1     1     1     1     1     1]\n",
      "{'mean': 209.328, 'std': 428.15337020278133, 'upper': 637.4813702027814, 'lower': -218.82537020278133, 'count': 112}\n"
     ]
    },
    {
     "data": {
      "image/png": "[encoded data removed]",
      "text/plain": [
       "<Figure size 432x288 with 1 Axes>"
      ]
     },
     "metadata": {
      "needs_background": "light"
     },
     "output_type": "display_data"
    }
   ],
   "source": [
    "x = df['true'].values\n",
    "print(x)\n",
    "x = x[1:]\n",
    "plt.hist(x, bins=50)\n",
    "\n",
    "# print(invcdf)\n",
    "x_mean = np.mean(x)\n",
    "x_std = np.std(x)\n",
    "upper = x_mean + 1 * x_std\n",
    "lower = x_mean - 1 * x_std\n",
    "x_data = [a for a in x if a > lower and a < upper]\n",
    "\n",
    "print({\n",
    "    'mean': x_mean,\n",
    "    'std': x_std,\n",
    "    'upper': upper,\n",
    "    'lower': lower,\n",
    "    'count': len(x_data)\n",
    "})"
   ]
  }
 ],
 "metadata": {
  "kernelspec": {
   "display_name": "Python 3",
   "language": "python",
   "name": "python3"
  },
  "language_info": {
   "codemirror_mode": {
    "name": "ipython",
    "version": 3
   },
   "file_extension": ".py",
   "mimetype": "text/x-python",
   "name": "python",
   "nbconvert_exporter": "python",
   "pygments_lexer": "ipython3",
   "version": "3.6.9"
  }
 },
 "nbformat": 4,
 "nbformat_minor": 5
}
